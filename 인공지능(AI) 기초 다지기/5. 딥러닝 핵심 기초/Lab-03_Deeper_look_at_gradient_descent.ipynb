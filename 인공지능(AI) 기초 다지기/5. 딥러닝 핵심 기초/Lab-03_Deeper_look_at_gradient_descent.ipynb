{
 "cells": [
  {
   "cell_type": "markdown",
   "id": "2f4d0b06",
   "metadata": {},
   "source": [
    "# Lab 3. Deeper Look at Gradient Descent"
   ]
  },
  {
   "cell_type": "markdown",
   "id": "f9a7ed2a",
   "metadata": {},
   "source": [
    "## Simple dataset을 이용한 gradient descent 이해\n",
    "- y = Wx"
   ]
  },
  {
   "cell_type": "code",
   "execution_count": 1,
   "id": "077b4e94",
   "metadata": {},
   "outputs": [
    {
     "name": "stdout",
     "output_type": "stream",
     "text": [
      "Epoch    0/10 W: 0.000, cost: 0.000000\n",
      "Epoch    1/10 W: 1.400, cost: 1.960000\n",
      "Epoch    2/10 W: 0.840, cost: 0.705600\n",
      "Epoch    3/10 W: 1.064, cost: 1.132096\n",
      "Epoch    4/10 W: 0.974, cost: 0.949455\n",
      "Epoch    5/10 W: 1.010, cost: 1.020585\n",
      "Epoch    6/10 W: 0.996, cost: 0.991825\n",
      "Epoch    7/10 W: 1.002, cost: 1.003280\n",
      "Epoch    8/10 W: 0.999, cost: 0.998690\n",
      "Epoch    9/10 W: 1.000, cost: 1.000525\n",
      "Epoch   10/10 W: 1.000, cost: 0.999790\n"
     ]
    }
   ],
   "source": [
    "import numpy as np\n",
    "import torch\n",
    "\n",
    "# 데이터\n",
    "x_train = torch.FloatTensor([[1], [2], [3]])\n",
    "y_train = torch.FloatTensor([[1], [2], [3]])\n",
    "# 모델 초기화\n",
    "W = torch.zeros(1)\n",
    "# Learning rate 설정\n",
    "lr = 0.1\n",
    "\n",
    "nb_epochs = 10\n",
    "for epoch in range(nb_epochs + 1):\n",
    "    \n",
    "    # H(x) 계산\n",
    "    hypothesis = x_train + W\n",
    "    \n",
    "    # cost pgradient 계산\n",
    "    cost = torch.mean((hypothesis - y_train) ** 2)\n",
    "    gradient = torch.sum((W * x_train - y_train) * x_train)\n",
    "    \n",
    "    print('Epoch {:4d}/{} W: {:.3f}, cost: {:.6f}'.format(epoch, nb_epochs, W.item(), cost.item()))\n",
    "    \n",
    "    #cost gradient로 H(x) 개선\n",
    "    W -= lr * gradient"
   ]
  },
  {
   "cell_type": "markdown",
   "id": "ea05feef",
   "metadata": {},
   "source": [
    "## Gradient Descent with torch.optim\n",
    "- torch.optim으로도 gradient descent를 할 수 있다!\n",
    "- 시작할 때 Optimizer 정의\n",
    "- optimizer.zero_grad()로 gradient를 0으로 초기화\n",
    "- cost.backward()로 gradient 계산\n",
    "- optimizer.step()으로 gradeint descent"
   ]
  },
  {
   "cell_type": "code",
   "execution_count": 2,
   "id": "5fab4ff4",
   "metadata": {},
   "outputs": [
    {
     "name": "stdout",
     "output_type": "stream",
     "text": [
      "Epoch    0/10 W: 0.000, cost: 0.000000\n",
      "Epoch    1/10 W: 0.000, cost: 0.000000\n",
      "Epoch    2/10 W: 0.000, cost: 0.000000\n",
      "Epoch    3/10 W: 0.000, cost: 0.000000\n",
      "Epoch    4/10 W: 0.000, cost: 0.000000\n",
      "Epoch    5/10 W: 0.000, cost: 0.000000\n",
      "Epoch    6/10 W: 0.000, cost: 0.000000\n",
      "Epoch    7/10 W: 0.000, cost: 0.000000\n",
      "Epoch    8/10 W: 0.000, cost: 0.000000\n",
      "Epoch    9/10 W: 0.000, cost: 0.000000\n",
      "Epoch   10/10 W: 0.000, cost: 0.000000\n"
     ]
    }
   ],
   "source": [
    "# 데이터\n",
    "x_train = torch.FloatTensor([[1], [2], [3]])\n",
    "y_train = torch.FloatTensor([[1], [2], [3]])\n",
    "# 모델 초기화\n",
    "W = torch.zeros(1, requires_grad=True)\n",
    "# optimizer 설정\n",
    "optimizer = torch.optim.SGD([W], lr = 0.15)\n",
    "\n",
    "nb_epochs = 10\n",
    "for epoch in range(nb_epochs + 1):\n",
    "    \n",
    "    # H(x) 계산\n",
    "    hypothesis = x_train + W\n",
    "    \n",
    "    # cost pgradient 계산\n",
    "    cost = torch.mean((hypothesis - y_train) ** 2)\n",
    "    \n",
    "    print('Epoch {:4d}/{} W: {:.3f}, cost: {:.6f}'.format(epoch, nb_epochs, W.item(), cost.item()))\n",
    "    \n",
    "    #cost로 H(x) 개선\n",
    "    optimizer.zero_grad()\n",
    "    cost.backward()\n",
    "    optimizer.step()"
   ]
  }
 ],
 "metadata": {
  "kernelspec": {
   "display_name": "Python 3 (ipykernel)",
   "language": "python",
   "name": "python3"
  },
  "language_info": {
   "codemirror_mode": {
    "name": "ipython",
    "version": 3
   },
   "file_extension": ".py",
   "mimetype": "text/x-python",
   "name": "python",
   "nbconvert_exporter": "python",
   "pygments_lexer": "ipython3",
   "version": "3.8.5"
  }
 },
 "nbformat": 4,
 "nbformat_minor": 5
}
