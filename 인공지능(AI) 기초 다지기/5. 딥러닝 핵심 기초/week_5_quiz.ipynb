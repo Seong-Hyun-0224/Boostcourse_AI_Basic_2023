{
 "cells": [
  {
   "cell_type": "code",
   "execution_count": null,
   "id": "f26e99f6",
   "metadata": {},
   "outputs": [],
   "source": [
    "import torch\n",
    "\n",
    "torch.tensor = torch.FloatTensor([[[1], [2], [3]], [[4], [5], [6]], [[7], [8], [9]]])\n",
    "print(torch_tensor.squeeze(), torch_tensor.squeeze().shape)"
   ]
  },
  {
   "cell_type": "code",
   "execution_count": null,
   "id": "6d75dc24",
   "metadata": {},
   "outputs": [],
   "source": [
    "torch_tensor_1 = torch.FloatTensor([[1, 2, 3, 4]])\n",
    "torch_tensor_2 = torch.FloatTensor([[5, 6, 7, 8]])\n",
    "\n",
    "print(torch.cat([torch_tensor_1, torch_tensor_2], axis=0))"
   ]
  }
 ],
 "metadata": {
  "kernelspec": {
   "display_name": "Python 3 (ipykernel)",
   "language": "python",
   "name": "python3"
  },
  "language_info": {
   "codemirror_mode": {
    "name": "ipython",
    "version": 3
   },
   "file_extension": ".py",
   "mimetype": "text/x-python",
   "name": "python",
   "nbconvert_exporter": "python",
   "pygments_lexer": "ipython3",
   "version": "3.8.5"
  }
 },
 "nbformat": 4,
 "nbformat_minor": 5
}
