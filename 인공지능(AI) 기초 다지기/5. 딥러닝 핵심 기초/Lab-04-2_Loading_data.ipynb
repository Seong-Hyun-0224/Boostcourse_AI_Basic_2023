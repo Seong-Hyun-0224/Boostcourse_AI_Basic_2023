{
 "cells": [
  {
   "cell_type": "markdown",
   "id": "06a7d6fe",
   "metadata": {},
   "source": [
    "# Lab 04-2. Loading Data"
   ]
  },
  {
   "cell_type": "markdown",
   "id": "1df683db",
   "metadata": {},
   "source": [
    "## Minibatch Gradient Descent\n",
    "- 천만개같이 많은 데이터셋의 학습을 위해 작은 minibatch로 잘게 나눠서 각각 일부분만 학습하자!!"
   ]
  },
  {
   "cell_type": "markdown",
   "id": "1123e8b6",
   "metadata": {},
   "source": [
    "## Pytorch Dataset"
   ]
  },
  {
   "cell_type": "code",
   "execution_count": null,
   "id": "a754ae90",
   "metadata": {},
   "outputs": [],
   "source": [
    "## torch.utils.data.Dataset 상속\n",
    "import torch\n",
    "from torch.utils.data import Dataset\n",
    "from torch.utils.data import DataLoader\n",
    "import torch.nn as nn\n",
    "import torch.nn.functional as F\n",
    "\n",
    "class CustomDataset(Dataset):\n",
    "    def __init__(self):\n",
    "        self.x_data = [[73, 80, 75],\n",
    "                       [93, 88, 93],\n",
    "                       [89, 91, 90],\n",
    "                       [96, 98, 100],\n",
    "                       [73, 66, 70]]\n",
    "        self.y_data = [[152], [185], [180], [196], [142]]\n",
    "    \n",
    "    #__len() : 이 데이터셋의 총 데이터 수\n",
    "    def __len__(self):\n",
    "        return len(self.x_data)\n",
    "    \n",
    "    #__getitem__() : 어떠한 인덱스 idx를 받았을 때, 그에 상승하는 입출력 데이터 반환\n",
    "    def __getitem__(self, idx):\n",
    "        x = torch.FloatTensor(self.x_data[idx])\n",
    "        y = torch.FloatTensor(self.y_data[idx])\n",
    "        \n",
    "        return\n",
    "\n",
    "dataset = CustomDataset()\n",
    "\n",
    "## PyTorch DataLoader\n",
    "\n",
    "# torch.utils.data.DataLoader 사용\n",
    "# batch_size=2 : 각 minibatch의 크기 / 통상적으로 2의 제곱수로 설정한다\n",
    "# shuffle = True : Epoch마다 데이터셋을 섞어서, 데이터가 학습되는 순서를 바꾼다.\n",
    "\n",
    "dataloader = DataLoader(dataset, batch_size=2, shuffle=True)\n",
    "\n",
    "\n",
    "class MultivariateLinearRegressionModel(nn.Module):\n",
    "    def __init__(self):\n",
    "        super().__init__()\n",
    "        self.linear = nn.Linear(3, 1)\n",
    "    \n",
    "    def forward(self, x):\n",
    "        return self.linear(x)\n",
    "\n",
    "\n",
    "# 모델 초기화\n",
    "model = MultivariateLinearRegressionModel()\n",
    "\n",
    "# optimizer 설정\n",
    "optimizer = torch.optim.SGD([W, b], lr=1e-5)\n",
    "\n",
    "nb_epochs = 20\n",
    "for epoch in range(nb_epochs + 1):\n",
    "    for batch_idx, samples in enumerate(dataloader):\n",
    "        x_train, y_train = samples\n",
    "        # H(x) 계산\n",
    "        prediction = model(x_train)\n",
    "        \n",
    "        #cost 계산\n",
    "        cost = F.mse_loss(prediction, y_train)\n",
    "        \n",
    "        #cost로 H(x) 개선\n",
    "        optimizer.zero_grad()\n",
    "        cost.backward()\n",
    "        optimizer,step()\n",
    "        \n",
    "        print('Epoch {:4d}/{} batch {}/{} Cost: {:.6f}'.format(epoch, nb_epochs, batch_idx+1, len(dataloader), cost.item()))"
   ]
  }
 ],
 "metadata": {
  "kernelspec": {
   "display_name": "Python 3 (ipykernel)",
   "language": "python",
   "name": "python3"
  },
  "language_info": {
   "codemirror_mode": {
    "name": "ipython",
    "version": 3
   },
   "file_extension": ".py",
   "mimetype": "text/x-python",
   "name": "python",
   "nbconvert_exporter": "python",
   "pygments_lexer": "ipython3",
   "version": "3.8.5"
  }
 },
 "nbformat": 4,
 "nbformat_minor": 5
}
