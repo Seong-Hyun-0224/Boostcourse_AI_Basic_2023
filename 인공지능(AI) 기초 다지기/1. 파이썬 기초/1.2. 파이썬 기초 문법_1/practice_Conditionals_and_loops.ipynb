{
 "cells": [
  {
   "cell_type": "markdown",
   "id": "2029b7dc",
   "metadata": {},
   "source": [
    "## practice about [Conditionals and Loops]\n",
    "# 1. number finder game\n",
    "==> find out the number between 1 to 100"
   ]
  },
  {
   "cell_type": "code",
   "execution_count": 3,
   "id": "13c26340",
   "metadata": {},
   "outputs": [
    {
     "name": "stdout",
     "output_type": "stream",
     "text": [
      "숫자를 맞춰보세요(1~100)50\n",
      "숫자가 너무 큽니다\n",
      "30\n",
      "숫자가 너무 큽니다\n",
      "10\n",
      "숫자가 너무 작습니다\n",
      "20\n",
      "숫자가 너무 큽니다\n",
      "15\n",
      "숫자가 너무 큽니다\n",
      "13\n",
      "숫자가 너무 작습니다\n",
      "14\n",
      "정답입니다. 입력한 숫자는 14 입니다\n"
     ]
    }
   ],
   "source": [
    "import random\n",
    "\n",
    "true_value = random.randint(1,100)\n",
    "\n",
    "input_value = int(input(\"숫자를 맞춰보세요(1~100)\"))\n",
    "\n",
    "while input_value != true_value:\n",
    "    if input_value > true_value:\n",
    "        print(\"숫자가 너무 큽니다\")\n",
    "        input_value = int(input())\n",
    "        continue\n",
    "    elif input_value < true_value:\n",
    "        print(\"숫자가 너무 작습니다\")\n",
    "        input_value = int(input())\n",
    "        continue\n",
    "    elif input_value == true_value:\n",
    "        break\n",
    "\n",
    "if input_value == true_value:\n",
    "    print(\"정답입니다. 입력한 숫자는 %d 입니다\" % (input_value))\n"
   ]
  },
  {
   "cell_type": "markdown",
   "id": "4170a5ba",
   "metadata": {},
   "source": [
    "# 2. Enter continuous multiplication tables\n",
    "==> input 1 to 9, end when 0 was entered."
   ]
  },
  {
   "cell_type": "code",
   "execution_count": 8,
   "id": "17753b81",
   "metadata": {},
   "outputs": [
    {
     "name": "stdout",
     "output_type": "stream",
     "text": [
      "구구단 몇 단을 계산할까요(1~9)?\n",
      "5\n",
      "구구단 5단을 계산합니다,\n",
      "5X1=5\n",
      "5X2=10\n",
      "5X3=15\n",
      "5X4=20\n",
      "5X5=25\n",
      "5X6=30\n",
      "5X7=35\n",
      "5X8=40\n",
      "5X9=45\n",
      "구구단 몇 단을 계산할까요(1~9)?\n",
      "10\n",
      "잘못 입력하셨습니다 1부터 9사이 숫자를 입력해주세요\n",
      "구구단 몇 단을 계산할까요(1~9)?\n",
      "0\n",
      "구구단 게임을 종료합니다\n"
     ]
    }
   ],
   "source": [
    "value = 1\n",
    "\n",
    "while value != 0:\n",
    "    print(\"구구단 몇 단을 계산할까요(1~9)?\")\n",
    "    value = int(input())\n",
    "    if value == 0:\n",
    "        break\n",
    "    elif value > 9:\n",
    "        print(\"잘못 입력하셨습니다\", \"1부터 9사이 숫자를 입력해주세요\")\n",
    "        continue\n",
    "    else:\n",
    "        print(\"구구단 \" + str(value)+\"단을 계산합니다,\")\n",
    "        for i in range(1, 10):\n",
    "            print(str(value) + \"X\" + str(i) + \"=\" + str(value*i))\n",
    "\n",
    "print(\"구구단 게임을 종료합니다\")"
   ]
  },
  {
   "cell_type": "code",
   "execution_count": 9,
   "id": "bbedc5fc",
   "metadata": {},
   "outputs": [
    {
     "name": "stdout",
     "output_type": "stream",
     "text": [
      "20\n"
     ]
    }
   ],
   "source": [
    "kor_score = [49, 79, 20, 100, 80]\n",
    "math_score = [43, 59, 85, 30, 90]\n",
    "eng_score = [49, 79, 48, 60, 100]\n",
    "midterm_score = [kor_score, math_score, eng_score]\n",
    "print (midterm_score[0][2])"
   ]
  }
 ],
 "metadata": {
  "kernelspec": {
   "display_name": "Python 3 (ipykernel)",
   "language": "python",
   "name": "python3"
  },
  "language_info": {
   "codemirror_mode": {
    "name": "ipython",
    "version": 3
   },
   "file_extension": ".py",
   "mimetype": "text/x-python",
   "name": "python",
   "nbconvert_exporter": "python",
   "pygments_lexer": "ipython3",
   "version": "3.8.5"
  }
 },
 "nbformat": 4,
 "nbformat_minor": 5
}
