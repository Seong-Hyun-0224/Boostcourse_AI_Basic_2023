{
 "cells": [
  {
   "cell_type": "markdown",
   "id": "d5147c7f",
   "metadata": {},
   "source": [
    "## Fahrenhheit Converter\n",
    "# [Fuction_and_io's LAB]"
   ]
  },
  {
   "cell_type": "code",
   "execution_count": 16,
   "id": "37775620",
   "metadata": {},
   "outputs": [
    {
     "name": "stdout",
     "output_type": "stream",
     "text": [
      "본 프로그램은 섭씨를 화씨로 변환해주는 프로그램입니다 \n",
      "변환하고 싶은 섭씨 온도를 입력해 주세요:32.2\n",
      "섭씨온도 : 32.2 \n",
      "화씨온도 : 89.96 \n",
      "\n"
     ]
    }
   ],
   "source": [
    "first = float(input(\"본 프로그램은 섭씨를 화씨로 변환해주는 프로그램입니다 \\n변환하고 싶은 섭씨 온도를 입력해 주세요:\"))\n",
    "fahren = ((9/5)*first) + 32\n",
    "print(\"섭씨온도 : %.1f \\n화씨온도 : %.2f \\n\" % (first, fahren))"
   ]
  },
  {
   "cell_type": "code",
   "execution_count": null,
   "id": "6fe36743",
   "metadata": {},
   "outputs": [],
   "source": []
  },
  {
   "cell_type": "code",
   "execution_count": null,
   "id": "05224420",
   "metadata": {},
   "outputs": [],
   "source": []
  }
 ],
 "metadata": {
  "kernelspec": {
   "display_name": "Python 3 (ipykernel)",
   "language": "python",
   "name": "python3"
  },
  "language_info": {
   "codemirror_mode": {
    "name": "ipython",
    "version": 3
   },
   "file_extension": ".py",
   "mimetype": "text/x-python",
   "name": "python",
   "nbconvert_exporter": "python",
   "pygments_lexer": "ipython3",
   "version": "3.8.5"
  }
 },
 "nbformat": 4,
 "nbformat_minor": 5
}
